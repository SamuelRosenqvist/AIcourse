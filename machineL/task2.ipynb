{
 "cells": [
  {
   "cell_type": "code",
   "execution_count": 1,
   "metadata": {},
   "outputs": [],
   "source": [
    "import csv\n",
    "import random\n",
    "import copy\n",
    "import numpy as np\n",
    "import matplotlib.pyplot as plt"
   ]
  },
  {
   "cell_type": "code",
   "execution_count": 2,
   "metadata": {},
   "outputs": [],
   "source": [
    "def loadLIBSVMfile(s):\n",
    "    info=[]\n",
    "    with open(s) as tsvfile:\n",
    "        reader = csv.reader(tsvfile,delimiter='\\t')\n",
    "        for row in reader:\n",
    "            info.append(row)\n",
    "        info = [obs[0].split(' ') for obs in info]\n",
    "        label = [float(obs[0]) for obs in info]\n",
    "        f1 = [list(map(float,obs[1].split(':')))[1] for obs in info]\n",
    "        f2 = [list(map(float,obs[2].split(':')))[1] for obs in info]\n",
    "        if len(info[0])==4:\n",
    "            f3 = [list(map(float,obs[3].split(':')))[1] for obs in info]\n",
    "            f3=normalize(f3)\n",
    "        else:\n",
    "            f3=None\n",
    "        return label,normalize(f1),normalize(f2),f3"
   ]
  },
  {
   "cell_type": "code",
   "execution_count": 3,
   "metadata": {},
   "outputs": [],
   "source": [
    "def normalize(X):\n",
    "    return [x/max(X) for x in X]\n",
    "\n",
    "def indices(X, elem):\n",
    "    return [ i for i in range(len(X)) if X[i] == elem ]"
   ]
  },
  {
   "cell_type": "code",
   "execution_count": 4,
   "metadata": {},
   "outputs": [],
   "source": [
    "def predict(row, weights):\n",
    "    activation = weights[0]\n",
    "    for i in range(len(row)-1):\n",
    "        activation += weights[i+1] * row[i+1]\n",
    "    return 1.0 if activation >= 0.0 else 0.0"
   ]
  },
  {
   "cell_type": "code",
   "execution_count": 5,
   "metadata": {},
   "outputs": [],
   "source": [
    "def perceptronTrain(dataset, step_size, stop_cond): #stop cond nr of allowed misclassifications\n",
    "    w = [-1+2*random.random() for i in range(len(dataset[0]))] #inits some random weights in interval [-1,1]\n",
    "    dataset = copy.deepcopy(dataset)\n",
    "    random.shuffle(dataset)\n",
    "    correct_pred = 0\n",
    "    iter=0\n",
    "    while correct_pred < stop_cond:\n",
    "        a=(step_size*1000)/(1000+iter)\n",
    "        iter+=1\n",
    "        correct_pred = 0\n",
    "        for row in dataset:\n",
    "            pred = predict(row,w)\n",
    "            err = row[0] - pred #y-yj\n",
    "            w[0] = w[0] + a*err\n",
    "            for i in range(len(row)-1):\n",
    "                w[i + 1] = w[i + 1] + a * err * row[i+1]\n",
    "        for r in dataset: \n",
    "            prediction = predict(r,w)\n",
    "            if prediction == r[0]:\n",
    "                correct_pred += 1\n",
    "            if correct_pred >= stop_cond:\n",
    "                #print(\"correct predictions: %d out of %d rows\" % (correct_pred,len(dataset)))\n",
    "                break\n",
    "        random.shuffle(dataset)\n",
    "    #print(iter)\n",
    "    return w\n"
   ]
  },
  {
   "cell_type": "code",
   "execution_count": 6,
   "metadata": {},
   "outputs": [],
   "source": [
    "def leave_one_out(dataset,index):\n",
    "    left_out = dataset[index]\n",
    "    data=[]\n",
    "    for i in range(len(dataset)):\n",
    "        if i != index:\n",
    "            data.append(dataset[i])\n",
    "\n",
    "    return data,left_out"
   ]
  },
  {
   "cell_type": "code",
   "execution_count": 7,
   "metadata": {},
   "outputs": [
    {
     "name": "stdout",
     "output_type": "stream",
     "text": [
      "Running perceptron program, with leave one out validation\n",
      "Learning rate: 1.000000 \n",
      "Stopping criterion: 29.000000 \n",
      "Using data: salammbo_a_e_binary.libsvm\n"
     ]
    },
    {
     "ename": "FileNotFoundError",
     "evalue": "[Errno 2] No such file or directory: 'salammbo_a_e_binary.libsvm'",
     "output_type": "error",
     "traceback": [
      "\u001b[1;31m---------------------------------------------------------------------------\u001b[0m",
      "\u001b[1;31mFileNotFoundError\u001b[0m                         Traceback (most recent call last)",
      "\u001b[1;32m<ipython-input-7-815474e8290d>\u001b[0m in \u001b[0;36m<module>\u001b[1;34m\u001b[0m\n\u001b[0;32m      9\u001b[0m \u001b[1;33m\u001b[0m\u001b[0m\n\u001b[0;32m     10\u001b[0m \u001b[1;33m\u001b[0m\u001b[0m\n\u001b[1;32m---> 11\u001b[1;33m \u001b[0mlabel\u001b[0m\u001b[1;33m,\u001b[0m\u001b[0mf1\u001b[0m\u001b[1;33m,\u001b[0m\u001b[0mf2\u001b[0m\u001b[1;33m,\u001b[0m\u001b[0mf3\u001b[0m \u001b[1;33m=\u001b[0m \u001b[0mloadLIBSVMfile\u001b[0m\u001b[1;33m(\u001b[0m\u001b[0mlibsvm_input_file\u001b[0m\u001b[1;33m)\u001b[0m\u001b[1;33m\u001b[0m\u001b[1;33m\u001b[0m\u001b[0m\n\u001b[0m\u001b[0;32m     12\u001b[0m \u001b[1;31m# yes, I'm well aware this is bad but at least the perceptron takes general input\u001b[0m\u001b[1;33m\u001b[0m\u001b[1;33m\u001b[0m\u001b[1;33m\u001b[0m\u001b[0m\n\u001b[0;32m     13\u001b[0m \u001b[1;32mif\u001b[0m \u001b[0mf3\u001b[0m \u001b[1;33m!=\u001b[0m \u001b[1;32mNone\u001b[0m\u001b[1;33m:\u001b[0m\u001b[1;33m\u001b[0m\u001b[1;33m\u001b[0m\u001b[0m\n",
      "\u001b[1;32m<ipython-input-2-2fad91673d33>\u001b[0m in \u001b[0;36mloadLIBSVMfile\u001b[1;34m(s)\u001b[0m\n\u001b[0;32m      1\u001b[0m \u001b[1;32mdef\u001b[0m \u001b[0mloadLIBSVMfile\u001b[0m\u001b[1;33m(\u001b[0m\u001b[0ms\u001b[0m\u001b[1;33m)\u001b[0m\u001b[1;33m:\u001b[0m\u001b[1;33m\u001b[0m\u001b[1;33m\u001b[0m\u001b[0m\n\u001b[0;32m      2\u001b[0m     \u001b[0minfo\u001b[0m\u001b[1;33m=\u001b[0m\u001b[1;33m[\u001b[0m\u001b[1;33m]\u001b[0m\u001b[1;33m\u001b[0m\u001b[1;33m\u001b[0m\u001b[0m\n\u001b[1;32m----> 3\u001b[1;33m     \u001b[1;32mwith\u001b[0m \u001b[0mopen\u001b[0m\u001b[1;33m(\u001b[0m\u001b[0ms\u001b[0m\u001b[1;33m)\u001b[0m \u001b[1;32mas\u001b[0m \u001b[0mtsvfile\u001b[0m\u001b[1;33m:\u001b[0m\u001b[1;33m\u001b[0m\u001b[1;33m\u001b[0m\u001b[0m\n\u001b[0m\u001b[0;32m      4\u001b[0m         \u001b[0mreader\u001b[0m \u001b[1;33m=\u001b[0m \u001b[0mcsv\u001b[0m\u001b[1;33m.\u001b[0m\u001b[0mreader\u001b[0m\u001b[1;33m(\u001b[0m\u001b[0mtsvfile\u001b[0m\u001b[1;33m,\u001b[0m\u001b[0mdelimiter\u001b[0m\u001b[1;33m=\u001b[0m\u001b[1;34m'\\t'\u001b[0m\u001b[1;33m)\u001b[0m\u001b[1;33m\u001b[0m\u001b[1;33m\u001b[0m\u001b[0m\n\u001b[0;32m      5\u001b[0m         \u001b[1;32mfor\u001b[0m \u001b[0mrow\u001b[0m \u001b[1;32min\u001b[0m \u001b[0mreader\u001b[0m\u001b[1;33m:\u001b[0m\u001b[1;33m\u001b[0m\u001b[1;33m\u001b[0m\u001b[0m\n",
      "\u001b[1;31mFileNotFoundError\u001b[0m: [Errno 2] No such file or directory: 'salammbo_a_e_binary.libsvm'"
     ]
    }
   ],
   "source": [
    "# learning rate alpha and stop_criterion number of correct classifications\n",
    "learning_rate,stop_criterion = 1, 29\n",
    "libsvm_input_file = 'salammbo/salammbo_a_e_binary.libsvm'\n",
    "\n",
    "\n",
    "\n",
    "print('Running perceptron program, with leave one out validation')\n",
    "print(\"Learning rate: %f \\nStopping criterion: %f \\nUsing data: %s\" % (learning_rate, stop_criterion, libsvm_input_file))\n",
    "\n",
    "\n",
    "label,f1,f2,f3 = loadLIBSVMfile(libsvm_input_file)\n",
    "# yes, I'm well aware this is bad but at least the perceptron takes general input\n",
    "if f3 != None:\n",
    "    dataset = [[label[i],f1[i],f2[i],f3[i]] for i in range(len(label))] #row: normalized label, feature1, feature2\n",
    "else:\n",
    "    dataset = [[label[i],f1[i],f2[i]] for i in range(len(label))]\n",
    "\n",
    "# for each row split the data by traning the perceptron on all except one row, \n",
    "# then validate on excluded row and increment var \"correct\" if classification is correct\n",
    "correct = 0\n",
    "for i in range(len(dataset)):\n",
    "    traindata, valdata = leave_one_out(dataset,i)\n",
    "    weights = perceptronTrain(traindata,learning_rate,stop_criterion)\n",
    "    prediction = predict(valdata, weights)\n",
    "    #print(\"Expected=%d, Predicted=%d\" % (valdata[-1], prediction))\n",
    "    if valdata[0] == prediction:\n",
    "        correct = correct + 1\n",
    "        #print(correct)\n",
    "    #else:\n",
    "    #    print(\"wrong prediction: {}\\n{}\\n\".format(valdata, weights))\n",
    "correctly_predicted = 100*(correct/len(label))\n",
    "print(\"Final evaluation: %d%% correct\" % (correctly_predicted))"
   ]
  }
 ],
 "metadata": {
  "kernelspec": {
   "display_name": "Python 3",
   "language": "python",
   "name": "python3"
  },
  "language_info": {
   "codemirror_mode": {
    "name": "ipython",
    "version": 3
   },
   "file_extension": ".py",
   "mimetype": "text/x-python",
   "name": "python",
   "nbconvert_exporter": "python",
   "pygments_lexer": "ipython3",
   "version": "3.8.1"
  }
 },
 "nbformat": 4,
 "nbformat_minor": 4
}
