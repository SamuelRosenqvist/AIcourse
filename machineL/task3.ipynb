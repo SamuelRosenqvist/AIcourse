{
 "cells": [
  {
   "cell_type": "code",
   "execution_count": 1,
   "metadata": {},
   "outputs": [],
   "source": [
    "import csv\n",
    "import random\n",
    "import copy\n",
    "import numpy as np\n",
    "import math\n",
    "import matplotlib.pyplot as plt"
   ]
  },
  {
   "cell_type": "code",
   "execution_count": 3,
   "metadata": {},
   "outputs": [],
   "source": [
    "def loadLIBSVMfile(s):\n",
    "    info=[]\n",
    "    with open(s) as tsvfile:\n",
    "        reader = csv.reader(tsvfile,delimiter='\\t')\n",
    "        for row in reader:\n",
    "            info.append(row)\n",
    "        info = [obs[0].split(' ') for obs in info]\n",
    "        label = [float(obs[0]) for obs in info]\n",
    "        f1 = [list(map(float,obs[1].split(':')))[1] for obs in info]\n",
    "        f2 = [list(map(float,obs[2].split(':')))[1] for obs in info]\n",
    "        if len(info[0])==4:\n",
    "            f3 = [list(map(float,obs[3].split(':')))[1] for obs in info]\n",
    "            f3=normalize(f3)\n",
    "        else:\n",
    "            f3=None\n",
    "        return label,normalize(f1),normalize(f2),f3"
   ]
  },
  {
   "cell_type": "code",
   "execution_count": 2,
   "metadata": {},
   "outputs": [],
   "source": [
    "def normalize(X):\n",
    "    return [x/max(X) for x in X]\n",
    "\n",
    "def indices(X, elem):\n",
    "    return [ i for i in range(len(X)) if X[i] == elem ]"
   ]
  },
  {
   "cell_type": "code",
   "execution_count": 4,
   "metadata": {},
   "outputs": [],
   "source": [
    "def predict(row, weights):\n",
    "    return 1/(1+math.exp(-(np.dot(np.array(row[1:]),np.array(weights[1:])))))"
   ]
  },
  {
   "cell_type": "code",
   "execution_count": 5,
   "metadata": {},
   "outputs": [],
   "source": [
    "def logisticRegressionTrain(dataset, a, tol): #tol tolerance\n",
    "    w = [-1+2*random.random() for i in range(len(dataset[0]))] #inits some random weights in interval [-1,1]\n",
    "    dataset = copy.deepcopy(dataset)\n",
    "    random.shuffle(dataset)\n",
    "    iter=0\n",
    "    while True:\n",
    "        w_old = copy.deepcopy(w)\n",
    "        iter+=1\n",
    "        for row in dataset:\n",
    "            pred = predict(row,w)\n",
    "            err = row[0] - pred #y-yj\n",
    "            w[0] = w[0] + a*err\n",
    "            for i in range(len(row)-1):\n",
    "                w[i + 1] = w[i + 1] + a * err * row[i+1]\n",
    "        if np.linalg.norm(np.array(w)-np.array(w_old)) / np.linalg.norm(np.array(w)) < tol:\n",
    "            #print(\"Epoch\",iter)\n",
    "            break\n",
    "        random.shuffle(dataset)        \n",
    "    return w\n",
    "\n",
    "def leave_one_out(dataset,index):\n",
    "    left_out = dataset[index]\n",
    "    data=[]\n",
    "    for i in range(len(dataset)):\n",
    "        if i != index:\n",
    "            data.append(dataset[i])\n",
    "\n",
    "    return data,left_out"
   ]
  },
  {
   "cell_type": "code",
   "execution_count": 6,
   "metadata": {},
   "outputs": [],
   "source": [
    "def leave_one_out(dataset,index):\n",
    "    left_out = dataset[index]\n",
    "    data=[]\n",
    "    for i in range(len(dataset)):\n",
    "        if i != index:\n",
    "            data.append(dataset[i])\n",
    "\n",
    "    return data,left_out"
   ]
  },
  {
   "cell_type": "code",
   "execution_count": 8,
   "metadata": {},
   "outputs": [
    {
     "name": "stdout",
     "output_type": "stream",
     "text": "Running logistic regression, with leave one out validation\nLearning rate: 0.400000 \nTolerance: 0.000500 \nUsing data: salammbo/salammbo_a_e_binary.libsvm\nFinal evaluation: 96% correct\n"
    }
   ],
   "source": [
    "# learning rate alpha and stop_criterion accepted nr \n",
    "# of misclassifications when determining the weights\n",
    "learning_rate,tol = .4, 0.0005\n",
    "libsvm_input_file = 'salammbo/salammbo_a_e_binary.libsvm'\n",
    "\n",
    "\n",
    "\n",
    "print('Running logistic regression, with leave one out validation')\n",
    "print(\"Learning rate: %f \\nTolerance: %f \\nUsing data: %s\" % (learning_rate, tol, libsvm_input_file))\n",
    "\n",
    "label,f1,f2,f3 = loadLIBSVMfile(libsvm_input_file)\n",
    "# yes, I'm well aware this is bad but at least the regression trainer takes general input\n",
    "if f3 != None:\n",
    "    dataset = [[label[i],f1[i],f2[i],f3[i]] for i in range(len(label))] #row: normalized label, feature1, feature2\n",
    "else:\n",
    "    dataset = [[label[i],f1[i],f2[i]] for i in range(len(label))]\n",
    "\n",
    "# for each row split the data by traning the perceptron on all except one row, \n",
    "# then validate on excluded row and increment var \"correct\" if classification is correct\n",
    "correct = 0\n",
    "for i in range(len(dataset)):\n",
    "    traindata, valdata = leave_one_out(dataset,i)\n",
    "    weights = logisticRegressionTrain(traindata,learning_rate,tol)\n",
    "    prediction = predict(valdata, weights)\n",
    "    #print(prediction)\n",
    "    if prediction>0.5:\n",
    "        prediction=1\n",
    "    else:\n",
    "        prediction=0\n",
    "    #print(weights)\n",
    "    #print(\"Expected=%d, Predicted=%d\" % (valdata[-1], prediction))\n",
    "    if valdata[0] == prediction:\n",
    "        correct = correct + 1\n",
    "        #print(correct)\n",
    "        \n",
    "correctly_predicted = 100*(correct/len(label))\n",
    "print(\"Final evaluation: %d%% correct\" % (correctly_predicted))\n",
    ""
   ]
  }
 ],
 "metadata": {
  "kernelspec": {
   "display_name": "Python 3.8.1 64-bit",
   "language": "python",
   "name": "python38164bit38e273d9698d447d8f59d44877d1332b"
  },
  "language_info": {
   "codemirror_mode": {
    "name": "ipython",
    "version": 3
   },
   "file_extension": ".py",
   "mimetype": "text/x-python",
   "name": "python",
   "nbconvert_exporter": "python",
   "pygments_lexer": "ipython3",
   "version": "3.8.1-final"
  }
 },
 "nbformat": 4,
 "nbformat_minor": 4
}